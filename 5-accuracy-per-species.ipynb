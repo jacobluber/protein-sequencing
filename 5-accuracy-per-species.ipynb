{
 "cells": [
  {
   "cell_type": "code",
   "execution_count": null,
   "metadata": {},
   "outputs": [
    {
     "name": "stdout",
     "output_type": "stream",
     "text": [
      "\\textit{E. fergusonii} - KCYM 1\n"
     ]
    }
   ],
   "source": [
    "import pandas as pd \n",
    "import numpy as np\n",
    "\n",
    "name = 'KCYM'\n",
    "\n",
    "all_dirs = {\n",
    "  f'E-Fergusonii - {name}': f\"/home/tlp5359/projects/CC_Sequencing_LLM/BCB/inference-results/{name}/E-fergusonii-to-others/\",\n",
    "  f'E-Coli - {name}': f\"/home/tlp5359/projects/CC_Sequencing_LLM/BCB/inference-results/{name}/E-Coli-to-others/\",\n",
    "  f'E-Albertii - {name}': f\"/home/tlp5359/projects/CC_Sequencing_LLM/BCB/inference-results/{name}/E-albertii-to-others/\",  \n",
    "}\n",
    "labels = {f'E-Fergusonii - {name}': \"E-fergusonii\",\n",
    "          f'E-Coli - {name}' : \"E-Coli\",\n",
    "          f'E-Albertii - {name}': \"E-albertii\"}\n",
    "N = [1,2,3]\n",
    "length_interval=50\n",
    "\n",
    "acc = {}\n",
    "cov = {}\n",
    "for k,v in all_dirs.items():\n",
    "  all_dfs = []\n",
    "  # merge folds\n",
    "  for i in N: \n",
    "    tmp_df = pd.read_json(f\"{v}/UniRef100-F{i}.json\")\n",
    "    tmp_df = tmp_df[tmp_df['seq_label'] == labels[k]]\n",
    "    all_dfs.append(tmp_df)\n",
    "  # take average\n",
    "  df = pd.concat(all_dfs,ignore_index=True)\n",
    "  df['bin'] = df['seq_length'].apply(lambda x: (x//length_interval)*length_interval if (x//length_interval)*length_interval <1500 else 1500)\n",
    "  acc[k] = df[['bin','seq_length','Matching Percentage', 'Matching Percentage full']] #df.groupby('bin')['Matching Percentage'].agg(['mean','std']).reset_index()\n",
    "  \n",
    "  # take coverage count\n",
    "  cov_df = None\n",
    "  for df in all_dfs:\n",
    "    df['bin'] = df['seq_length'].apply(lambda x: (x//length_interval)*length_interval if (x//length_interval)*length_interval <1500 else 1500)\n",
    "    if cov_df is None:\n",
    "      cov_df = df.groupby('bin')['Matching Percentage'].agg(['count']).reset_index().fillna(0)\n",
    "      cov_df['cumcount'] = [ 100-v/len(df)*100 for v in cov_df['count'].cumsum()]\n",
    "    else:\n",
    "      cov_df_tmp = df.groupby('bin')['Matching Percentage'].agg(['count']).reset_index().fillna(0)\n",
    "      cov_df_tmp['cumcount'] = [ 100-v/len(df)*100 for v in cov_df_tmp['count'].cumsum()]\n",
    "      cov_df = pd.concat([cov_df,cov_df_tmp],ignore_index=True)\n",
    "  cov[k] = cov_df\n"
   ]
  },
  {
   "cell_type": "code",
   "execution_count": null,
   "metadata": {},
   "outputs": [],
   "source": [
    "df.groupby('bin')"
   ]
  },
  {
   "cell_type": "code",
   "execution_count": null,
   "metadata": {},
   "outputs": [],
   "source": [
    "cov_df_tmp"
   ]
  },
  {
   "cell_type": "code",
   "execution_count": null,
   "metadata": {},
   "outputs": [],
   "source": [
    "import matplotlib.pyplot as plt\n",
    "import seaborn as sns\n",
    "SMALL_SIZE = 10\n",
    "MEDIUM_SIZE = 12\n",
    "BIGGER_SIZE = 12\n",
    "\n",
    "plt.rc('font', size=SMALL_SIZE)          # controls default text sizes\n",
    "plt.rc('axes', titlesize=SMALL_SIZE)     # fontsize of the axes title\n",
    "plt.rc('axes', labelsize=MEDIUM_SIZE)    # fontsize of the x and y labels\n",
    "plt.rc('xtick', labelsize=SMALL_SIZE)    # fontsize of the tick labels\n",
    "plt.rc('ytick', labelsize=SMALL_SIZE)    # fontsize of the tick labels\n",
    "plt.rc('legend', fontsize=SMALL_SIZE)    # legend fontsize\n",
    "plt.rc('figure', titlesize=BIGGER_SIZE)  # fontsize of the figure title\n",
    "\n",
    "\n",
    "k = \"E-Fergusonii - KCYM\"\n",
    "fig, _ = plt.subplots(figsize=(8,3))\n",
    "sns.lineplot(data=acc[k], x='bin', y='Matching Percentage', errorbar=('pi',75), label = \"unmask accuracy\")\n",
    "sns.lineplot(data=acc[k], x='bin', y='Matching Percentage full', errorbar=('pi',75), label = \"identity\")\n",
    "sns.lineplot(data=cov[k], x='bin', y='cumcount', errorbar=('pi',75), label = \"% sequence's length > x\", linestyle='--')\n",
    "plt.axvline(1024, linestyle='--')\n",
    "plt.xlim([-1,1500])\n",
    "plt.ylim([0,110])\n",
    "plt.grid(axis='y')\n",
    "plt.ylabel('Accuracy [%]')\n",
    "plt.xlabel(\"sequence length [residues]\")\n",
    "plt.title(f\"{k} - per-sequence accuracy\",fontsize=12,pad=25)\n",
    "plt.legend(bbox_to_anchor=(0.5, 1.08), loc='center', ncol=3)\n",
    "plt.tight_layout()\n",
    "plt.show()"
   ]
  },
  {
   "cell_type": "code",
   "execution_count": null,
   "metadata": {},
   "outputs": [],
   "source": []
  }
 ],
 "metadata": {
  "kernelspec": {
   "display_name": "Python (LUCY)",
   "language": "python",
   "name": "lucy"
  },
  "language_info": {
   "codemirror_mode": {
    "name": "ipython",
    "version": 3
   },
   "file_extension": ".py",
   "mimetype": "text/x-python",
   "name": "python",
   "nbconvert_exporter": "python",
   "pygments_lexer": "ipython3",
   "version": "3.9.19"
  }
 },
 "nbformat": 4,
 "nbformat_minor": 2
}

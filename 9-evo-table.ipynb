{
 "cells": [
  {
   "cell_type": "code",
   "execution_count": 5,
   "metadata": {},
   "outputs": [],
   "source": [
    "import pandas as pd\n",
    "\n",
    "all_df = {}\n",
    "for N in [1,2,3]:\n",
    "  # file_dict = {\n",
    "  #   # 'E-Coli model'      : f\"/home/tlp5359/projects/CC_Sequencing_LLM/BCB/inference-results/KCYM/E-Coli-to-others/UniRef100-F{N}.json\",\n",
    "  #   # 'E-Coli model-7k'      : f\"/home/tlp5359/projects/CC_Sequencing_LLM/BCB/inference-results/KCYM/E-Coli-to-others-cp7000/UniRef100-F{N}.json\",\n",
    "    \n",
    "  #   # 'E-Coli model'      : f\"/home/tlp5359/projects/CC_Sequencing_LLM/BCB/inference-results/KCYMRHWST/E-Coli-to-others/UniRef100-F{N}.json\",\n",
    "  #   # 'E-albertii model'  : f\"/home/tlp5359/projects/CC_Sequencing_LLM/BCB/inference-results/KCYMRHWST/E-albertii-to-others/UniRef100-F{N}.json\",\n",
    "  #   # 'E-fergusonii model': f\"/home/tlp5359/projects/CC_Sequencing_LLM/BCB/inference-results/KCYMRHWST/E-fergusonii-to-others/UniRef100-F{N}.json\",\n",
    "  #   }\n",
    "  file_dict = {\n",
    "    'E-Coli model'      : f\"/home/tlp5359/projects/CC_Sequencing_LLM/BCB/inference-results/KCYM/E-Coli-to-others/UniRef100-F{N}.json\",\n",
    "    'E-albertii model'  : f\"/home/tlp5359/projects/CC_Sequencing_LLM/BCB/inference-results/KCYM/E-albertii-to-others/UniRef100-F{N}.json\",\n",
    "    'E-fergusonii model': f\"/home/tlp5359/projects/CC_Sequencing_LLM/BCB/inference-results/KCYM/E-fergusonii-to-others/UniRef100-F{N}.json\",\n",
    "    }\n",
    "  df = None\n",
    "  for k, v in file_dict.items():\n",
    "    if df is None:\n",
    "      df = pd.read_json(v).groupby('seq_label')['Matching Percentage'].mean().reset_index().rename(columns={'Matching Percentage': k})\n",
    "    else:\n",
    "      tmp_df = pd.read_json(v).groupby('seq_label')['Matching Percentage'].mean().reset_index().rename(columns={'Matching Percentage': k})\n",
    "      df = pd.merge(df,tmp_df, on='seq_label', how='right')\n",
    "  all_df[N] = df"
   ]
  },
  {
   "cell_type": "code",
   "execution_count": 6,
   "metadata": {},
   "outputs": [
    {
     "data": {
      "text/html": [
       "<div>\n",
       "<style scoped>\n",
       "    .dataframe tbody tr th:only-of-type {\n",
       "        vertical-align: middle;\n",
       "    }\n",
       "\n",
       "    .dataframe tbody tr th {\n",
       "        vertical-align: top;\n",
       "    }\n",
       "\n",
       "    .dataframe thead th {\n",
       "        text-align: right;\n",
       "    }\n",
       "</style>\n",
       "<table border=\"1\" class=\"dataframe\">\n",
       "  <thead>\n",
       "    <tr style=\"text-align: right;\">\n",
       "      <th></th>\n",
       "      <th>seq_label</th>\n",
       "      <th>E-Coli model</th>\n",
       "      <th>E-albertii model</th>\n",
       "      <th>E-fergusonii model</th>\n",
       "    </tr>\n",
       "  </thead>\n",
       "  <tbody>\n",
       "    <tr>\n",
       "      <th>0</th>\n",
       "      <td>E-Coli</td>\n",
       "      <td>72.950495</td>\n",
       "      <td>51.185688</td>\n",
       "      <td>45.315120</td>\n",
       "    </tr>\n",
       "    <tr>\n",
       "      <th>1</th>\n",
       "      <td>E-albertii</td>\n",
       "      <td>64.477440</td>\n",
       "      <td>88.202777</td>\n",
       "      <td>49.588106</td>\n",
       "    </tr>\n",
       "    <tr>\n",
       "      <th>2</th>\n",
       "      <td>E-fergusonii</td>\n",
       "      <td>59.759614</td>\n",
       "      <td>50.140109</td>\n",
       "      <td>88.241437</td>\n",
       "    </tr>\n",
       "  </tbody>\n",
       "</table>\n",
       "</div>"
      ],
      "text/plain": [
       "      seq_label  E-Coli model  E-albertii model  E-fergusonii model\n",
       "0        E-Coli     72.950495         51.185688           45.315120\n",
       "1    E-albertii     64.477440         88.202777           49.588106\n",
       "2  E-fergusonii     59.759614         50.140109           88.241437"
      ]
     },
     "execution_count": 6,
     "metadata": {},
     "output_type": "execute_result"
    }
   ],
   "source": [
    "all_df[1]"
   ]
  },
  {
   "cell_type": "code",
   "execution_count": 7,
   "metadata": {},
   "outputs": [
    {
     "data": {
      "text/html": [
       "<div>\n",
       "<style scoped>\n",
       "    .dataframe tbody tr th:only-of-type {\n",
       "        vertical-align: middle;\n",
       "    }\n",
       "\n",
       "    .dataframe tbody tr th {\n",
       "        vertical-align: top;\n",
       "    }\n",
       "\n",
       "    .dataframe thead th {\n",
       "        text-align: right;\n",
       "    }\n",
       "</style>\n",
       "<table border=\"1\" class=\"dataframe\">\n",
       "  <thead>\n",
       "    <tr style=\"text-align: right;\">\n",
       "      <th></th>\n",
       "      <th>Inference set</th>\n",
       "      <th>E-Coli model</th>\n",
       "      <th>E-albertii model</th>\n",
       "      <th>E-fergusonii model</th>\n",
       "    </tr>\n",
       "  </thead>\n",
       "  <tbody>\n",
       "    <tr>\n",
       "      <th>0</th>\n",
       "      <td>E-Coli</td>\n",
       "      <td>73.526218</td>\n",
       "      <td>51.380126</td>\n",
       "      <td>45.218273</td>\n",
       "    </tr>\n",
       "    <tr>\n",
       "      <th>1</th>\n",
       "      <td>E-albertii</td>\n",
       "      <td>65.154413</td>\n",
       "      <td>88.458848</td>\n",
       "      <td>50.158853</td>\n",
       "    </tr>\n",
       "    <tr>\n",
       "      <th>2</th>\n",
       "      <td>E-fergusonii</td>\n",
       "      <td>60.064050</td>\n",
       "      <td>50.611676</td>\n",
       "      <td>88.333529</td>\n",
       "    </tr>\n",
       "  </tbody>\n",
       "</table>\n",
       "</div>"
      ],
      "text/plain": [
       "  Inference set  E-Coli model  E-albertii model  E-fergusonii model\n",
       "0        E-Coli     73.526218         51.380126           45.218273\n",
       "1    E-albertii     65.154413         88.458848           50.158853\n",
       "2  E-fergusonii     60.064050         50.611676           88.333529"
      ]
     },
     "execution_count": 7,
     "metadata": {},
     "output_type": "execute_result"
    }
   ],
   "source": [
    "import numpy as np\n",
    "stacked = np.stack([ df.iloc[:,1:] for df in all_df.values()])\n",
    "average_df = pd.DataFrame(np.mean(stacked, axis=0), columns=all_df[1].columns[1:])\n",
    "average_df.insert(0, 'Inference set', all_df[1]['seq_label'])\n",
    "stdev_df = pd.DataFrame(np.std(stacked, axis=0), columns=all_df[1].columns[1:])\n",
    "stdev_df.insert(0, 'Inference set', all_df[1]['seq_label'])\n",
    "average_df"
   ]
  },
  {
   "cell_type": "code",
   "execution_count": 8,
   "metadata": {},
   "outputs": [
    {
     "data": {
      "text/html": [
       "<div>\n",
       "<style scoped>\n",
       "    .dataframe tbody tr th:only-of-type {\n",
       "        vertical-align: middle;\n",
       "    }\n",
       "\n",
       "    .dataframe tbody tr th {\n",
       "        vertical-align: top;\n",
       "    }\n",
       "\n",
       "    .dataframe thead th {\n",
       "        text-align: right;\n",
       "    }\n",
       "</style>\n",
       "<table border=\"1\" class=\"dataframe\">\n",
       "  <thead>\n",
       "    <tr style=\"text-align: right;\">\n",
       "      <th></th>\n",
       "      <th>Inference set</th>\n",
       "      <th>E-Coli model</th>\n",
       "      <th>E-albertii model</th>\n",
       "      <th>E-fergusonii model</th>\n",
       "    </tr>\n",
       "  </thead>\n",
       "  <tbody>\n",
       "    <tr>\n",
       "      <th>0</th>\n",
       "      <td>E-Coli</td>\n",
       "      <td>0.487276</td>\n",
       "      <td>0.167882</td>\n",
       "      <td>0.093352</td>\n",
       "    </tr>\n",
       "    <tr>\n",
       "      <th>1</th>\n",
       "      <td>E-albertii</td>\n",
       "      <td>0.485267</td>\n",
       "      <td>0.182074</td>\n",
       "      <td>0.643576</td>\n",
       "    </tr>\n",
       "    <tr>\n",
       "      <th>2</th>\n",
       "      <td>E-fergusonii</td>\n",
       "      <td>0.349216</td>\n",
       "      <td>0.342890</td>\n",
       "      <td>0.153033</td>\n",
       "    </tr>\n",
       "  </tbody>\n",
       "</table>\n",
       "</div>"
      ],
      "text/plain": [
       "  Inference set  E-Coli model  E-albertii model  E-fergusonii model\n",
       "0        E-Coli      0.487276          0.167882            0.093352\n",
       "1    E-albertii      0.485267          0.182074            0.643576\n",
       "2  E-fergusonii      0.349216          0.342890            0.153033"
      ]
     },
     "execution_count": 8,
     "metadata": {},
     "output_type": "execute_result"
    }
   ],
   "source": [
    "stdev_df"
   ]
  },
  {
   "cell_type": "code",
   "execution_count": null,
   "metadata": {},
   "outputs": [],
   "source": []
  },
  {
   "cell_type": "code",
   "execution_count": 1,
   "metadata": {},
   "outputs": [
    {
     "ename": "NameError",
     "evalue": "name 'pd' is not defined",
     "output_type": "error",
     "traceback": [
      "\u001b[0;31m---------------------------------------------------------------------------\u001b[0m",
      "\u001b[0;31mNameError\u001b[0m                                 Traceback (most recent call last)",
      "Input \u001b[0;32mIn [1]\u001b[0m, in \u001b[0;36m<module>\u001b[0;34m\u001b[0m\n\u001b[1;32m      4\u001b[0m v \u001b[38;5;241m=\u001b[39m  \u001b[38;5;124mf\u001b[39m\u001b[38;5;124m\"\u001b[39m\u001b[38;5;124m/home/tlp5359/projects/CC_Sequencing_LLM/BCB/inference-results/KCYM/E-Coli-to-others/UniRef100-F\u001b[39m\u001b[38;5;132;01m{\u001b[39;00mN\u001b[38;5;132;01m}\u001b[39;00m\u001b[38;5;124m.json\u001b[39m\u001b[38;5;124m\"\u001b[39m,\n\u001b[1;32m      5\u001b[0m tmp_df \u001b[38;5;241m=\u001b[39m \u001b[38;5;28;01mNone\u001b[39;00m\n\u001b[0;32m----> 6\u001b[0m tmp_df \u001b[38;5;241m=\u001b[39m \u001b[43mpd\u001b[49m\u001b[38;5;241m.\u001b[39mread_json(v)[[\u001b[38;5;124m'\u001b[39m\u001b[38;5;124mMatching Percentage\u001b[39m\u001b[38;5;124m'\u001b[39m,\u001b[38;5;124m'\u001b[39m\u001b[38;5;124mMatching Percentage full\u001b[39m\u001b[38;5;124m'\u001b[39m,\u001b[38;5;124m'\u001b[39m\u001b[38;5;124mMasking \u001b[39m\u001b[38;5;124m%\u001b[39m\u001b[38;5;124m'\u001b[39m,\u001b[38;5;124m'\u001b[39m\u001b[38;5;124mexpected\u001b[39m\u001b[38;5;124m'\u001b[39m,\u001b[38;5;124m'\u001b[39m\u001b[38;5;124mpredicted\u001b[39m\u001b[38;5;124m'\u001b[39m]]\n\u001b[1;32m      7\u001b[0m d[\u001b[38;5;124m'\u001b[39m\u001b[38;5;124mkey\u001b[39m\u001b[38;5;124m'\u001b[39m]\u001b[38;5;241m.\u001b[39mappend(k)\n\u001b[1;32m      8\u001b[0m d[\u001b[38;5;124m'\u001b[39m\u001b[38;5;124mMatching Percentage\u001b[39m\u001b[38;5;124m'\u001b[39m]\u001b[38;5;241m.\u001b[39mappend(tmp_df[\u001b[38;5;124m'\u001b[39m\u001b[38;5;124mMatching Percentage\u001b[39m\u001b[38;5;124m'\u001b[39m]\u001b[38;5;241m.\u001b[39mmean())\n",
      "\u001b[0;31mNameError\u001b[0m: name 'pd' is not defined"
     ]
    }
   ],
   "source": []
  },
  {
   "cell_type": "code",
   "execution_count": null,
   "metadata": {},
   "outputs": [],
   "source": []
  }
 ],
 "metadata": {
  "kernelspec": {
   "display_name": "Python 3 (ipykernel)",
   "language": "python",
   "name": "python3"
  },
  "language_info": {
   "codemirror_mode": {
    "name": "ipython",
    "version": 3
   },
   "file_extension": ".py",
   "mimetype": "text/x-python",
   "name": "python",
   "nbconvert_exporter": "python",
   "pygments_lexer": "ipython3",
   "version": "3.9.-1"
  }
 },
 "nbformat": 4,
 "nbformat_minor": 2
}

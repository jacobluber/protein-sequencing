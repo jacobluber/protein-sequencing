{
 "cells": [
  {
   "cell_type": "code",
   "execution_count": 4,
   "metadata": {},
   "outputs": [
    {
     "name": "stdout",
     "output_type": "stream",
     "text": [
      "E-Coli model 1\n",
      "E-albertii model 1\n",
      "E-fergusonii model 1\n",
      "E-Coli model 2\n",
      "E-albertii model 2\n",
      "E-fergusonii model 2\n",
      "E-Coli model 3\n",
      "E-albertii model 3\n",
      "E-fergusonii model 3\n"
     ]
    }
   ],
   "source": [
    "import pandas as pd\n",
    "\n",
    "all_df = {}\n",
    "for N in [1,2,3]:\n",
    "  file_dict = {\n",
    "    'E-Coli model'      : f\"/home/tlp5359/projects/CC_Sequencing_LLM/BCB/inference-results/KCYMRHWST/E-Coli-to-others/UniRef100-F{N}.json\",\n",
    "    'E-albertii model'  : f\"/home/tlp5359/projects/CC_Sequencing_LLM/BCB/inference-results/KCYMRHWST/E-albertii-to-others/UniRef100-F{N}.json\",\n",
    "    'E-fergusonii model': f\"/home/tlp5359/projects/CC_Sequencing_LLM/BCB/inference-results/KCYMRHWST/E-fergusonii-to-others/UniRef100-F{N}.json\",\n",
    "    }\n",
    "#   file_dict = {\n",
    "#     'E-Coli model'      : f\"/home/tlp5359/projects/CC_Sequencing_LLM/BCB/inference-results/KCYM/E-Coli-to-others/UniRef100-F{N}.json\",\n",
    "#     'E-albertii model'  : f\"/home/tlp5359/projects/CC_Sequencing_LLM/BCB/inference-results/KCYM/E-albertii-to-others/UniRef100-F{N}.json\",\n",
    "#     'E-fergusonii model': f\"/home/tlp5359/projects/CC_Sequencing_LLM/BCB/inference-results/KCYM/E-fergusonii-to-others/UniRef100-F{N}.json\",\n",
    "#     }\n",
    "  df = None\n",
    "  for k, v in file_dict.items():\n",
    "    print(k,N)\n",
    "    if df is None:\n",
    "      df = pd.read_json(v).groupby('seq_label')['Matching Percentage full'].mean().reset_index().rename(columns={'Matching Percentage full': k})\n",
    "    else:\n",
    "      tmp_df = pd.read_json(v).groupby('seq_label')['Matching Percentage full'].mean().reset_index().rename(columns={'Matching Percentage full': k})\n",
    "      df = pd.merge(df,tmp_df, on='seq_label', how='right')\n",
    "  all_df[N] = df"
   ]
  },
  {
   "cell_type": "code",
   "execution_count": null,
   "metadata": {},
   "outputs": [],
   "source": [
    "all_df[1]"
   ]
  },
  {
   "cell_type": "code",
   "execution_count": 5,
   "metadata": {},
   "outputs": [
    {
     "data": {
      "text/html": [
       "<div>\n",
       "<style scoped>\n",
       "    .dataframe tbody tr th:only-of-type {\n",
       "        vertical-align: middle;\n",
       "    }\n",
       "\n",
       "    .dataframe tbody tr th {\n",
       "        vertical-align: top;\n",
       "    }\n",
       "\n",
       "    .dataframe thead th {\n",
       "        text-align: right;\n",
       "    }\n",
       "</style>\n",
       "<table border=\"1\" class=\"dataframe\">\n",
       "  <thead>\n",
       "    <tr style=\"text-align: right;\">\n",
       "      <th></th>\n",
       "      <th>Inference set</th>\n",
       "      <th>E-Coli model</th>\n",
       "      <th>E-albertii model</th>\n",
       "      <th>E-fergusonii model</th>\n",
       "    </tr>\n",
       "  </thead>\n",
       "  <tbody>\n",
       "    <tr>\n",
       "      <th>0</th>\n",
       "      <td>E-Coli</td>\n",
       "      <td>88.964725</td>\n",
       "      <td>79.495870</td>\n",
       "      <td>76.163506</td>\n",
       "    </tr>\n",
       "    <tr>\n",
       "      <th>1</th>\n",
       "      <td>E-albertii</td>\n",
       "      <td>88.258093</td>\n",
       "      <td>95.629446</td>\n",
       "      <td>80.640847</td>\n",
       "    </tr>\n",
       "    <tr>\n",
       "      <th>2</th>\n",
       "      <td>E-fergusonii</td>\n",
       "      <td>86.283055</td>\n",
       "      <td>81.458669</td>\n",
       "      <td>95.690066</td>\n",
       "    </tr>\n",
       "  </tbody>\n",
       "</table>\n",
       "</div>"
      ],
      "text/plain": [
       "  Inference set  E-Coli model  E-albertii model  E-fergusonii model\n",
       "0        E-Coli     88.964725         79.495870           76.163506\n",
       "1    E-albertii     88.258093         95.629446           80.640847\n",
       "2  E-fergusonii     86.283055         81.458669           95.690066"
      ]
     },
     "execution_count": 5,
     "metadata": {},
     "output_type": "execute_result"
    }
   ],
   "source": [
    "import numpy as np\n",
    "stacked = np.stack([ df.iloc[:,1:] for df in all_df.values()])\n",
    "average_df = pd.DataFrame(np.mean(stacked, axis=0), columns=all_df[1].columns[1:])\n",
    "average_df.insert(0, 'Inference set', all_df[1]['seq_label'])\n",
    "stdev_df = pd.DataFrame(np.std(stacked, axis=0), columns=all_df[1].columns[1:])\n",
    "stdev_df.insert(0, 'Inference set', all_df[1]['seq_label'])\n",
    "average_df"
   ]
  },
  {
   "cell_type": "code",
   "execution_count": 6,
   "metadata": {},
   "outputs": [
    {
     "data": {
      "text/html": [
       "<div>\n",
       "<style scoped>\n",
       "    .dataframe tbody tr th:only-of-type {\n",
       "        vertical-align: middle;\n",
       "    }\n",
       "\n",
       "    .dataframe tbody tr th {\n",
       "        vertical-align: top;\n",
       "    }\n",
       "\n",
       "    .dataframe thead th {\n",
       "        text-align: right;\n",
       "    }\n",
       "</style>\n",
       "<table border=\"1\" class=\"dataframe\">\n",
       "  <thead>\n",
       "    <tr style=\"text-align: right;\">\n",
       "      <th></th>\n",
       "      <th>Inference set</th>\n",
       "      <th>E-Coli model</th>\n",
       "      <th>E-albertii model</th>\n",
       "      <th>E-fergusonii model</th>\n",
       "    </tr>\n",
       "  </thead>\n",
       "  <tbody>\n",
       "    <tr>\n",
       "      <th>0</th>\n",
       "      <td>E-Coli</td>\n",
       "      <td>0.303821</td>\n",
       "      <td>0.233000</td>\n",
       "      <td>0.122580</td>\n",
       "    </tr>\n",
       "    <tr>\n",
       "      <th>1</th>\n",
       "      <td>E-albertii</td>\n",
       "      <td>0.290582</td>\n",
       "      <td>0.036691</td>\n",
       "      <td>0.435396</td>\n",
       "    </tr>\n",
       "    <tr>\n",
       "      <th>2</th>\n",
       "      <td>E-fergusonii</td>\n",
       "      <td>0.317758</td>\n",
       "      <td>0.125204</td>\n",
       "      <td>0.082298</td>\n",
       "    </tr>\n",
       "  </tbody>\n",
       "</table>\n",
       "</div>"
      ],
      "text/plain": [
       "  Inference set  E-Coli model  E-albertii model  E-fergusonii model\n",
       "0        E-Coli      0.303821          0.233000            0.122580\n",
       "1    E-albertii      0.290582          0.036691            0.435396\n",
       "2  E-fergusonii      0.317758          0.125204            0.082298"
      ]
     },
     "execution_count": 6,
     "metadata": {},
     "output_type": "execute_result"
    }
   ],
   "source": [
    "stdev_df"
   ]
  },
  {
   "cell_type": "code",
   "execution_count": null,
   "metadata": {},
   "outputs": [],
   "source": []
  },
  {
   "cell_type": "code",
   "execution_count": null,
   "metadata": {},
   "outputs": [],
   "source": []
  },
  {
   "cell_type": "code",
   "execution_count": null,
   "metadata": {},
   "outputs": [],
   "source": []
  }
 ],
 "metadata": {
  "kernelspec": {
   "display_name": "Python (LUCY)",
   "language": "python",
   "name": "lucy"
  },
  "language_info": {
   "codemirror_mode": {
    "name": "ipython",
    "version": 3
   },
   "file_extension": ".py",
   "mimetype": "text/x-python",
   "name": "python",
   "nbconvert_exporter": "python",
   "pygments_lexer": "ipython3",
   "version": "3.9.19"
  }
 },
 "nbformat": 4,
 "nbformat_minor": 2
}

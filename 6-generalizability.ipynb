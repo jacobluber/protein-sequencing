{
 "cells": [
  {
   "cell_type": "code",
   "execution_count": 1,
   "metadata": {},
   "outputs": [],
   "source": [
    "import re\n",
    "def string_matching_percentage(istr1, istr2, merge_dict={\"[QN]\":\"Q\"},ignore_lst=\"[KCYDE]\", default=None):\n",
    "    str1 = istr1\n",
    "    str2 = istr2\n",
    "    if ignore_lst is not None:\n",
    "        # masking KCYDE\n",
    "        str1 = re.sub(ignore_lst,'',str1)\n",
    "        str2 = re.sub(ignore_lst,'',str2)\n",
    "    if merge_dict is not None:\n",
    "        # merging\n",
    "        for k,v in merge_dict.items():\n",
    "            str1 = re.sub(k,v,str1)\n",
    "            str2 = re.sub(k,v,str2)\n",
    "    # calculating matching score\n",
    "    if len(str1) != len(str2):\n",
    "        if default is None:\n",
    "            print(\"string 1:\", str1,\"\\nstring 2:\", str2)\n",
    "            raise ValueError(\"Both strings must have the same length for comparison. (You can set default (float) = something to bypass this error)\")\n",
    "        else:\n",
    "            return default      \n",
    "    matching_count = sum(1 for a, b in zip(str1, str2) if a == b and a.isalpha() )\n",
    "    total_length = len(str1)\n",
    "    \n",
    "    percentage = (matching_count / total_length) * 100.0\n",
    "    return percentage"
   ]
  },
  {
   "cell_type": "code",
   "execution_count": 2,
   "metadata": {},
   "outputs": [
    {
     "name": "stdout",
     "output_type": "stream",
     "text": [
      "Done  E-Coli - KCYMR\n",
      "Done  E-Coli - KCYMH\n",
      "Done  E-Coli - KCYMW\n",
      "Done  E-Coli - KCYMS\n",
      "Done  E-Coli - KCYMT\n"
     ]
    }
   ],
   "source": [
    "import pandas as pd\n",
    "\n",
    "\n",
    "all_files = {\n",
    "    'E-Coli - KCYMR' : '/home/tlp5359/projects/CC_Sequencing_LLM/BCB/inference-results/KCYMR/E-Coli/UniRef100-F1.json',\n",
    "    'E-Coli - KCYMH' : '/home/tlp5359/projects/CC_Sequencing_LLM/BCB/inference-results/KCYMH/E-Coli/UniRef100-F1.json',\n",
    "    'E-Coli - KCYMW' : '/home/tlp5359/projects/CC_Sequencing_LLM/BCB/inference-results/KCYMW/E-Coli/UniRef100-F1.json',\n",
    "    'E-Coli - KCYMS' : '/home/tlp5359/projects/CC_Sequencing_LLM/BCB/inference-results/KCYMS/E-Coli/UniRef100-F1.json',\n",
    "    'E-Coli - KCYMT' : '/home/tlp5359/projects/CC_Sequencing_LLM/BCB/inference-results/KCYMT/E-Coli/UniRef100-F1.json',\n",
    "}\n",
    "\n",
    "\n",
    "from collections import defaultdict\n",
    "d = defaultdict(list)\n",
    "for k, v in all_files.items():\n",
    "    tmp_df = None\n",
    "    tmp_df = pd.read_json(v)[['Matching Percentage','Matching Percentage full','Masking %','expected','predicted']]\n",
    "    d['key'].append(k)\n",
    "    d['Matching Percentage'].append(tmp_df['Matching Percentage'].mean())\n",
    "    d['Matching Percentage std'].append(tmp_df['Matching Percentage'].std())\n",
    "    d['Matching Percentage full'].append(tmp_df['Matching Percentage full'].mean())\n",
    "    d['Matching Percentage full std'].append(tmp_df['Matching Percentage full'].std())\n",
    "    d['Masking %'].append(tmp_df['Masking %'].mean())\n",
    "    d['Masking % atd'].append(tmp_df['Masking %'].std())\n",
    "    pred_seqs = ''.join(list(tmp_df['predicted']))\n",
    "    real_seqs = ''.join(list(tmp_df['expected']))\n",
    "    d['token acc'].append(string_matching_percentage(real_seqs,pred_seqs,merge_dict=None, ignore_lst=' '))\n",
    "    print(\"Done \",k)\n",
    "df = pd.DataFrame(d)"
   ]
  },
  {
   "cell_type": "code",
   "execution_count": 3,
   "metadata": {},
   "outputs": [
    {
     "data": {
      "text/html": [
       "<div>\n",
       "<style scoped>\n",
       "    .dataframe tbody tr th:only-of-type {\n",
       "        vertical-align: middle;\n",
       "    }\n",
       "\n",
       "    .dataframe tbody tr th {\n",
       "        vertical-align: top;\n",
       "    }\n",
       "\n",
       "    .dataframe thead th {\n",
       "        text-align: right;\n",
       "    }\n",
       "</style>\n",
       "<table border=\"1\" class=\"dataframe\">\n",
       "  <thead>\n",
       "    <tr style=\"text-align: right;\">\n",
       "      <th></th>\n",
       "      <th>0</th>\n",
       "      <th>1</th>\n",
       "      <th>2</th>\n",
       "      <th>3</th>\n",
       "      <th>4</th>\n",
       "    </tr>\n",
       "  </thead>\n",
       "  <tbody>\n",
       "    <tr>\n",
       "      <th>key</th>\n",
       "      <td>E-Coli - KCYMR</td>\n",
       "      <td>E-Coli - KCYMH</td>\n",
       "      <td>E-Coli - KCYMW</td>\n",
       "      <td>E-Coli - KCYMS</td>\n",
       "      <td>E-Coli - KCYMT</td>\n",
       "    </tr>\n",
       "    <tr>\n",
       "      <th>Matching Percentage</th>\n",
       "      <td>76.283885</td>\n",
       "      <td>75.002202</td>\n",
       "      <td>75.826755</td>\n",
       "      <td>75.220284</td>\n",
       "      <td>75.744692</td>\n",
       "    </tr>\n",
       "    <tr>\n",
       "      <th>Matching Percentage std</th>\n",
       "      <td>32.264604</td>\n",
       "      <td>33.251759</td>\n",
       "      <td>32.922903</td>\n",
       "      <td>32.907187</td>\n",
       "      <td>32.534054</td>\n",
       "    </tr>\n",
       "    <tr>\n",
       "      <th>Matching Percentage full</th>\n",
       "      <td>80.552479</td>\n",
       "      <td>78.567453</td>\n",
       "      <td>79.123259</td>\n",
       "      <td>79.831905</td>\n",
       "      <td>80.082394</td>\n",
       "    </tr>\n",
       "    <tr>\n",
       "      <th>Matching Percentage full std</th>\n",
       "      <td>26.414937</td>\n",
       "      <td>28.456332</td>\n",
       "      <td>28.397342</td>\n",
       "      <td>26.706576</td>\n",
       "      <td>26.666213</td>\n",
       "    </tr>\n",
       "    <tr>\n",
       "      <th>Masking %</th>\n",
       "      <td>82.780287</td>\n",
       "      <td>86.299496</td>\n",
       "      <td>86.922493</td>\n",
       "      <td>82.337601</td>\n",
       "      <td>82.882206</td>\n",
       "    </tr>\n",
       "    <tr>\n",
       "      <th>Masking % atd</th>\n",
       "      <td>3.725156</td>\n",
       "      <td>3.401726</td>\n",
       "      <td>3.275879</td>\n",
       "      <td>3.693052</td>\n",
       "      <td>3.425201</td>\n",
       "    </tr>\n",
       "    <tr>\n",
       "      <th>token acc</th>\n",
       "      <td>80.259758</td>\n",
       "      <td>78.851887</td>\n",
       "      <td>79.517562</td>\n",
       "      <td>78.703869</td>\n",
       "      <td>80.37731</td>\n",
       "    </tr>\n",
       "  </tbody>\n",
       "</table>\n",
       "</div>"
      ],
      "text/plain": [
       "                                           0               1               2  \\\n",
       "key                           E-Coli - KCYMR  E-Coli - KCYMH  E-Coli - KCYMW   \n",
       "Matching Percentage                76.283885       75.002202       75.826755   \n",
       "Matching Percentage std            32.264604       33.251759       32.922903   \n",
       "Matching Percentage full           80.552479       78.567453       79.123259   \n",
       "Matching Percentage full std       26.414937       28.456332       28.397342   \n",
       "Masking %                          82.780287       86.299496       86.922493   \n",
       "Masking % atd                       3.725156        3.401726        3.275879   \n",
       "token acc                          80.259758       78.851887       79.517562   \n",
       "\n",
       "                                           3               4  \n",
       "key                           E-Coli - KCYMS  E-Coli - KCYMT  \n",
       "Matching Percentage                75.220284       75.744692  \n",
       "Matching Percentage std            32.907187       32.534054  \n",
       "Matching Percentage full           79.831905       80.082394  \n",
       "Matching Percentage full std       26.706576       26.666213  \n",
       "Masking %                          82.337601       82.882206  \n",
       "Masking % atd                       3.693052        3.425201  \n",
       "token acc                          78.703869        80.37731  "
      ]
     },
     "execution_count": 3,
     "metadata": {},
     "output_type": "execute_result"
    }
   ],
   "source": [
    "df.T"
   ]
  },
  {
   "cell_type": "code",
   "execution_count": 4,
   "metadata": {},
   "outputs": [
    {
     "name": "stdout",
     "output_type": "stream",
     "text": [
      "Done +1\n",
      "Done +1\n",
      "Done +1\n"
     ]
    },
    {
     "data": {
      "text/html": [
       "<div>\n",
       "<style scoped>\n",
       "    .dataframe tbody tr th:only-of-type {\n",
       "        vertical-align: middle;\n",
       "    }\n",
       "\n",
       "    .dataframe tbody tr th {\n",
       "        vertical-align: top;\n",
       "    }\n",
       "\n",
       "    .dataframe thead th {\n",
       "        text-align: right;\n",
       "    }\n",
       "</style>\n",
       "<table border=\"1\" class=\"dataframe\">\n",
       "  <thead>\n",
       "    <tr style=\"text-align: right;\">\n",
       "      <th></th>\n",
       "      <th>Matching Percentage</th>\n",
       "      <th>Matching Percentage std</th>\n",
       "      <th>Matching Percentage full</th>\n",
       "      <th>Matching Percentage full std</th>\n",
       "      <th>Masking %</th>\n",
       "      <th>Masking % atd</th>\n",
       "      <th>token acc</th>\n",
       "    </tr>\n",
       "  </thead>\n",
       "  <tbody>\n",
       "    <tr>\n",
       "      <th>0</th>\n",
       "      <td>88.241437</td>\n",
       "      <td>24.547187</td>\n",
       "      <td>89.655381</td>\n",
       "      <td>21.523987</td>\n",
       "      <td>88.794954</td>\n",
       "      <td>2.911488</td>\n",
       "      <td>87.261900</td>\n",
       "    </tr>\n",
       "    <tr>\n",
       "      <th>1</th>\n",
       "      <td>88.209964</td>\n",
       "      <td>24.890345</td>\n",
       "      <td>89.617022</td>\n",
       "      <td>21.861004</td>\n",
       "      <td>88.846392</td>\n",
       "      <td>2.901398</td>\n",
       "      <td>86.032138</td>\n",
       "    </tr>\n",
       "    <tr>\n",
       "      <th>2</th>\n",
       "      <td>88.549186</td>\n",
       "      <td>24.438183</td>\n",
       "      <td>89.919079</td>\n",
       "      <td>21.460849</td>\n",
       "      <td>88.847115</td>\n",
       "      <td>2.915451</td>\n",
       "      <td>87.197561</td>\n",
       "    </tr>\n",
       "  </tbody>\n",
       "</table>\n",
       "</div>"
      ],
      "text/plain": [
       "   Matching Percentage  Matching Percentage std  Matching Percentage full  \\\n",
       "0            88.241437                24.547187                 89.655381   \n",
       "1            88.209964                24.890345                 89.617022   \n",
       "2            88.549186                24.438183                 89.919079   \n",
       "\n",
       "   Matching Percentage full std  Masking %  Masking % atd  token acc  \n",
       "0                     21.523987  88.794954       2.911488  87.261900  \n",
       "1                     21.861004  88.846392       2.901398  86.032138  \n",
       "2                     21.460849  88.847115       2.915451  87.197561  "
      ]
     },
     "execution_count": 4,
     "metadata": {},
     "output_type": "execute_result"
    }
   ],
   "source": [
    "import pandas as pd\n",
    "from collections import defaultdict\n",
    "\n",
    "d = defaultdict(list)\n",
    "\n",
    "for N in [1,2,3]:\n",
    "    v = f\"/home/tlp5359/projects/CC_Sequencing_LLM/BCB/inference-results/KCYM/E-fergusonii-to-others/UniRef100-F{N}.json\"\n",
    "    tmp_df = None\n",
    "    tmp_df = pd.read_json(v)\n",
    "    tmp_df = tmp_df[tmp_df['seq_label'] == 'E-fergusonii'][['Matching Percentage','Matching Percentage full','Masking %','expected','predicted']]\n",
    "#     d['key'].append(k)\n",
    "    d['Matching Percentage'].append(tmp_df['Matching Percentage'].mean())\n",
    "    d['Matching Percentage std'].append(tmp_df['Matching Percentage'].std())\n",
    "    d['Matching Percentage full'].append(tmp_df['Matching Percentage full'].mean())\n",
    "    d['Matching Percentage full std'].append(tmp_df['Matching Percentage full'].std())\n",
    "    d['Masking %'].append(tmp_df['Masking %'].mean())\n",
    "    d['Masking % atd'].append(tmp_df['Masking %'].std())\n",
    "    pred_seqs = ''.join(list(tmp_df['predicted']))\n",
    "    real_seqs = ''.join(list(tmp_df['expected']))\n",
    "    d['token acc'].append(string_matching_percentage(real_seqs,pred_seqs,merge_dict=None, ignore_lst=' '))\n",
    "    print(\"Done +1\")\n",
    "df = pd.DataFrame(d)\n",
    "df"
   ]
  },
  {
   "cell_type": "code",
   "execution_count": 5,
   "metadata": {},
   "outputs": [
    {
     "data": {
      "text/plain": [
       "Matching Percentage             88.333529\n",
       "Matching Percentage std         24.625239\n",
       "Matching Percentage full        89.730494\n",
       "Matching Percentage full std    21.615280\n",
       "Masking %                       88.829487\n",
       "Masking % atd                    2.909446\n",
       "token acc                       86.830533\n",
       "dtype: float64"
      ]
     },
     "execution_count": 5,
     "metadata": {},
     "output_type": "execute_result"
    }
   ],
   "source": [
    "df.mean()"
   ]
  },
  {
   "cell_type": "code",
   "execution_count": 6,
   "metadata": {},
   "outputs": [
    {
     "data": {
      "text/plain": [
       "Matching Percentage             0.187427\n",
       "Matching Percentage std         0.235969\n",
       "Matching Percentage full        0.164442\n",
       "Matching Percentage full std    0.215132\n",
       "Masking %                       0.029908\n",
       "Masking % atd                   0.007246\n",
       "token acc                       0.692178\n",
       "dtype: float64"
      ]
     },
     "execution_count": 6,
     "metadata": {},
     "output_type": "execute_result"
    }
   ],
   "source": [
    "df.std()"
   ]
  },
  {
   "cell_type": "code",
   "execution_count": 16,
   "metadata": {},
   "outputs": [
    {
     "name": "stdout",
     "output_type": "stream",
     "text": [
      "Done +1\n",
      "Done +1\n",
      "Done +1\n"
     ]
    },
    {
     "data": {
      "text/html": [
       "<div>\n",
       "<style scoped>\n",
       "    .dataframe tbody tr th:only-of-type {\n",
       "        vertical-align: middle;\n",
       "    }\n",
       "\n",
       "    .dataframe tbody tr th {\n",
       "        vertical-align: top;\n",
       "    }\n",
       "\n",
       "    .dataframe thead th {\n",
       "        text-align: right;\n",
       "    }\n",
       "</style>\n",
       "<table border=\"1\" class=\"dataframe\">\n",
       "  <thead>\n",
       "    <tr style=\"text-align: right;\">\n",
       "      <th></th>\n",
       "      <th>Matching Percentage</th>\n",
       "      <th>Matching Percentage std</th>\n",
       "      <th>Matching Percentage full</th>\n",
       "      <th>Matching Percentage full std</th>\n",
       "      <th>Masking %</th>\n",
       "      <th>Masking % atd</th>\n",
       "      <th>token acc</th>\n",
       "    </tr>\n",
       "  </thead>\n",
       "  <tbody>\n",
       "    <tr>\n",
       "      <th>0</th>\n",
       "      <td>93.551816</td>\n",
       "      <td>18.628099</td>\n",
       "      <td>95.735404</td>\n",
       "      <td>12.263667</td>\n",
       "      <td>67.941439</td>\n",
       "      <td>3.765788</td>\n",
       "      <td>93.179630</td>\n",
       "    </tr>\n",
       "    <tr>\n",
       "      <th>1</th>\n",
       "      <td>93.314244</td>\n",
       "      <td>19.122521</td>\n",
       "      <td>95.574566</td>\n",
       "      <td>12.605564</td>\n",
       "      <td>68.014980</td>\n",
       "      <td>3.784950</td>\n",
       "      <td>92.265783</td>\n",
       "    </tr>\n",
       "    <tr>\n",
       "      <th>2</th>\n",
       "      <td>93.606861</td>\n",
       "      <td>18.662268</td>\n",
       "      <td>95.760229</td>\n",
       "      <td>12.355723</td>\n",
       "      <td>67.957872</td>\n",
       "      <td>3.866432</td>\n",
       "      <td>93.094767</td>\n",
       "    </tr>\n",
       "  </tbody>\n",
       "</table>\n",
       "</div>"
      ],
      "text/plain": [
       "   Matching Percentage  Matching Percentage std  Matching Percentage full  \\\n",
       "0            93.551816                18.628099                 95.735404   \n",
       "1            93.314244                19.122521                 95.574566   \n",
       "2            93.606861                18.662268                 95.760229   \n",
       "\n",
       "   Matching Percentage full std  Masking %  Masking % atd  token acc  \n",
       "0                     12.263667  67.941439       3.765788  93.179630  \n",
       "1                     12.605564  68.014980       3.784950  92.265783  \n",
       "2                     12.355723  67.957872       3.866432  93.094767  "
      ]
     },
     "execution_count": 16,
     "metadata": {},
     "output_type": "execute_result"
    }
   ],
   "source": [
    "from collections import defaultdict\n",
    "d = defaultdict(list)\n",
    "\n",
    "for N in [1,2,3]:\n",
    "    v = f\"/home/tlp5359/projects/CC_Sequencing_LLM/BCB/inference-results/KCYMRHWST/E-fergusonii-to-others/UniRef100-F{N}.json\"\n",
    "    tmp_df = None\n",
    "    tmp_df = pd.read_json(v)\n",
    "    tmp_df = tmp_df[tmp_df['seq_label'] == 'E-fergusonii'][['Matching Percentage','Matching Percentage full','Masking %','expected','predicted']]\n",
    "#     d['key'].append(k)\n",
    "    d['Matching Percentage'].append(tmp_df['Matching Percentage'].mean())\n",
    "    d['Matching Percentage std'].append(tmp_df['Matching Percentage'].std())\n",
    "    d['Matching Percentage full'].append(tmp_df['Matching Percentage full'].mean())\n",
    "    d['Matching Percentage full std'].append(tmp_df['Matching Percentage full'].std())\n",
    "    d['Masking %'].append(tmp_df['Masking %'].mean())\n",
    "    d['Masking % atd'].append(tmp_df['Masking %'].std())\n",
    "    pred_seqs = ''.join(list(tmp_df['predicted']))\n",
    "    real_seqs = ''.join(list(tmp_df['expected']))\n",
    "    d['token acc'].append(string_matching_percentage(real_seqs,pred_seqs,merge_dict=None, ignore_lst=' '))\n",
    "    print(\"Done +1\")\n",
    "df = pd.DataFrame(d)\n",
    "df"
   ]
  },
  {
   "cell_type": "code",
   "execution_count": 17,
   "metadata": {},
   "outputs": [
    {
     "data": {
      "text/plain": [
       "Matching Percentage             93.490974\n",
       "Matching Percentage std         18.804296\n",
       "Matching Percentage full        95.690066\n",
       "Matching Percentage full std    12.408318\n",
       "Masking %                       67.971430\n",
       "Masking % atd                    3.805723\n",
       "token acc                       92.846727\n",
       "dtype: float64"
      ]
     },
     "execution_count": 17,
     "metadata": {},
     "output_type": "execute_result"
    }
   ],
   "source": [
    "df.mean()"
   ]
  },
  {
   "cell_type": "code",
   "execution_count": 18,
   "metadata": {},
   "outputs": [
    {
     "data": {
      "text/plain": [
       "Matching Percentage             0.155507\n",
       "Matching Percentage std         0.276120\n",
       "Matching Percentage full        0.100794\n",
       "Matching Percentage full std    0.176913\n",
       "Masking %                       0.038600\n",
       "Masking % atd                   0.053441\n",
       "token acc                       0.504898\n",
       "dtype: float64"
      ]
     },
     "execution_count": 18,
     "metadata": {},
     "output_type": "execute_result"
    }
   ],
   "source": [
    "df.std()"
   ]
  }
 ],
 "metadata": {
  "kernelspec": {
   "display_name": "Python (LUCY)",
   "language": "python",
   "name": "lucy"
  },
  "language_info": {
   "codemirror_mode": {
    "name": "ipython",
    "version": 3
   },
   "file_extension": ".py",
   "mimetype": "text/x-python",
   "name": "python",
   "nbconvert_exporter": "python",
   "pygments_lexer": "ipython3",
   "version": "3.9.19"
  }
 },
 "nbformat": 4,
 "nbformat_minor": 2
}
